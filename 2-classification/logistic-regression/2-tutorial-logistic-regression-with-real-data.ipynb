{
 "cells": [
  {
   "cell_type": "markdown",
   "id": "8dcc2f15",
   "metadata": {},
   "source": [
    "# Basic manipulation of real datasets for ML models"
   ]
  },
  {
   "cell_type": "markdown",
   "id": "11f1ea1b",
   "metadata": {},
   "source": [
    "The Cleveland heart patient dataset is available at https://archive.ics.uci.edu/ml/datasets/Heart+Disease.\n",
    "It contains 14 attributes use to describe a heart patient collected from\n",
    "the Cleveland Clinic Foundation."
   ]
  },
  {
   "cell_type": "code",
   "execution_count": 1,
   "id": "b3b8e5a2",
   "metadata": {},
   "outputs": [],
   "source": [
    "#Import packages and classes\n",
    "\n",
    "import pandas as pd\n",
    "import numpy as np\n",
    "import matplotlib.pyplot as plt\n",
    "import seaborn as sns\n",
    "import matplotlib.pyplot as plt\n",
    "from sklearn.model_selection import train_test_split\n",
    "from sklearn.metrics import confusion_matrix\n",
    "from sklearn.linear_model import LogisticRegression\n",
    "from sklearn.metrics import accuracy_score\n",
    "from sklearn.metrics import classification_report"
   ]
  },
  {
   "cell_type": "markdown",
   "id": "19dfc0bb",
   "metadata": {},
   "source": [
    "NOTE: Install Libraries/Packages in Anaconda (seaborn)"
   ]
  },
  {
   "cell_type": "code",
   "execution_count": 2,
   "id": "8800b0b6",
   "metadata": {},
   "outputs": [
    {
     "name": "stdout",
     "output_type": "stream",
     "text": [
      "   age  sex  cp  trestbps  chol  fbs  restecg  thalach  exang  oldpeak  slope  \\\n",
      "0   63    1   1       145   233    1        2      150      0      2.3      3   \n",
      "1   67    1   4       160   286    0        2      108      1      1.5      2   \n",
      "2   67    1   4       120   229    0        2      129      1      2.6      2   \n",
      "3   37    1   3       130   250    0        0      187      0      3.5      3   \n",
      "4   41    0   2       130   204    0        2      172      0      1.4      1   \n",
      "\n",
      "  ca thal  pred_value  \n",
      "0  0    6           0  \n",
      "1  3    3           2  \n",
      "2  2    7           1  \n",
      "3  0    3           0  \n",
      "4  0    3           0  \n"
     ]
    }
   ],
   "source": [
    "#Reading the csv file with pandas, as a data frame.\n",
    "\n",
    "heart_df = pd.read_csv('dataset/processed_cleveland.csv')\n",
    "print(heart_df.head())"
   ]
  },
  {
   "cell_type": "code",
   "execution_count": 3,
   "id": "4eda1c77",
   "metadata": {},
   "outputs": [
    {
     "name": "stdout",
     "output_type": "stream",
     "text": [
      ">>>>count<<<<\n",
      "age           303\n",
      "sex           303\n",
      "cp            303\n",
      "trestbps      303\n",
      "chol          303\n",
      "fbs           303\n",
      "restecg       303\n",
      "thalach       303\n",
      "exang         303\n",
      "oldpeak       303\n",
      "slope         303\n",
      "ca            303\n",
      "thal          303\n",
      "pred_value    303\n",
      "dtype: int64\n",
      ">>>>info<<<<\n",
      "<class 'pandas.core.frame.DataFrame'>\n",
      "RangeIndex: 303 entries, 0 to 302\n",
      "Data columns (total 14 columns):\n",
      " #   Column      Non-Null Count  Dtype  \n",
      "---  ------      --------------  -----  \n",
      " 0   age         303 non-null    int64  \n",
      " 1   sex         303 non-null    int64  \n",
      " 2   cp          303 non-null    int64  \n",
      " 3   trestbps    303 non-null    int64  \n",
      " 4   chol        303 non-null    int64  \n",
      " 5   fbs         303 non-null    int64  \n",
      " 6   restecg     303 non-null    int64  \n",
      " 7   thalach     303 non-null    int64  \n",
      " 8   exang       303 non-null    int64  \n",
      " 9   oldpeak     303 non-null    float64\n",
      " 10  slope       303 non-null    int64  \n",
      " 11  ca          303 non-null    object \n",
      " 12  thal        303 non-null    object \n",
      " 13  pred_value  303 non-null    int64  \n",
      "dtypes: float64(1), int64(11), object(2)\n",
      "memory usage: 33.3+ KB\n",
      "None\n"
     ]
    }
   ],
   "source": [
    "#more viewing options\n",
    "\n",
    "print(\">>>>count<<<<\")\n",
    "print(heart_df.count())\n",
    "print(\">>>>info<<<<\")\n",
    "print(heart_df.info())"
   ]
  },
  {
   "cell_type": "code",
   "execution_count": 4,
   "id": "bba830ef",
   "metadata": {},
   "outputs": [],
   "source": [
    "#ca and thal has missing or unknown data\n",
    "#non-numeric data will not be interpreted properly, therefore they are removed\n",
    "\n",
    "heart_df[\"ca\"] = pd.to_numeric(heart_df[\"ca\"], errors='coerce')\n",
    "heart_df[\"thal\"] = pd.to_numeric(heart_df[\"thal\"], errors='coerce')"
   ]
  },
  {
   "cell_type": "code",
   "execution_count": 5,
   "id": "82a7afa0",
   "metadata": {},
   "outputs": [
    {
     "data": {
      "image/png": "[encoded data removed]",
      "text/plain": [
       "<Figure size 432x288 with 1 Axes>"
      ]
     },
     "metadata": {
      "needs_background": "light"
     },
     "output_type": "display_data"
    }
   ],
   "source": [
    "#generating a seaborn heatmap\n",
    "sns.heatmap(heart_df.isnull(),yticklabels=False,cbar=False,cmap='viridis')\n",
    "plt.show()"
   ]
  },
  {
   "cell_type": "code",
   "execution_count": 7,
   "id": "673aaa83",
   "metadata": {},
   "outputs": [
    {
     "name": "stdout",
     "output_type": "stream",
     "text": [
      ">>>>count<<<<\n",
      "age           297\n",
      "sex           297\n",
      "cp            297\n",
      "trestbps      297\n",
      "chol          297\n",
      "fbs           297\n",
      "restecg       297\n",
      "thalach       297\n",
      "exang         297\n",
      "oldpeak       297\n",
      "slope         297\n",
      "ca            297\n",
      "thal          297\n",
      "pred_value    297\n",
      "dtype: int64\n"
     ]
    }
   ],
   "source": [
    "#yellow lines indicate missing entries from ca and thal\n",
    "#we need to remove them completely to avoid bias in the model\n",
    "heart_df.dropna(inplace=True)\n",
    "\n",
    "#inplace=true modifies the data frame on the fly\n",
    "\n",
    "print(\">>>>count<<<<\")\n",
    "print(heart_df.count())\n",
    "\n",
    "#following removal of these rows, only 297 rows are left."
   ]
  },
  {
   "cell_type": "code",
   "execution_count": 9,
   "id": "a828fb63",
   "metadata": {},
   "outputs": [],
   "source": [
    "# Train and test dataset\n",
    "\n",
    "#split the data for train and test\n",
    "X_train, X_test, y_train, y_test = train_test_split(heart_df.drop('pred_value',\n",
    "axis=1), heart_df['pred_value'], test_size=0.30, random_state=101)"
   ]
  },
  {
   "cell_type": "code",
   "execution_count": 17,
   "id": "81ae659b",
   "metadata": {},
   "outputs": [
    {
     "name": "stderr",
     "output_type": "stream",
     "text": [
      "C:\\Users\\Sarvesh\\anaconda3\\lib\\site-packages\\sklearn\\linear_model\\_logistic.py:814: ConvergenceWarning: lbfgs failed to converge (status=1):\n",
      "STOP: TOTAL NO. of ITERATIONS REACHED LIMIT.\n",
      "\n",
      "Increase the number of iterations (max_iter) or scale the data as shown in:\n",
      "    https://scikit-learn.org/stable/modules/preprocessing.html\n",
      "Please also refer to the documentation for alternative solver options:\n",
      "    https://scikit-learn.org/stable/modules/linear_model.html#logistic-regression\n",
      "  n_iter_i = _check_optimize_result(\n"
     ]
    },
    {
     "data": {
      "text/plain": [
       "LogisticRegression()"
      ]
     },
     "execution_count": 17,
     "metadata": {},
     "output_type": "execute_result"
    }
   ],
   "source": [
    "#create LR instance and fit\n",
    "lrmodel = LogisticRegression()\n",
    "lrmodel.fit(X_train, y_train)\n",
    "\n",
    "#NOTE: Warning ignored for now"
   ]
  },
  {
   "cell_type": "code",
   "execution_count": 18,
   "id": "ba70085d",
   "metadata": {},
   "outputs": [
    {
     "name": "stdout",
     "output_type": "stream",
     "text": [
      "[[50  1  0  2]\n",
      " [11  3  1  4]\n",
      " [ 2  2  3  5]\n",
      " [ 0  1  4  1]]\n",
      "              precision    recall  f1-score   support\n",
      "\n",
      "           0       0.79      0.94      0.86        53\n",
      "           1       0.43      0.16      0.23        19\n",
      "           2       0.38      0.25      0.30        12\n",
      "           3       0.08      0.17      0.11         6\n",
      "\n",
      "    accuracy                           0.63        90\n",
      "   macro avg       0.42      0.38      0.38        90\n",
      "weighted avg       0.61      0.63      0.60        90\n",
      "\n"
     ]
    }
   ],
   "source": [
    "#perform prediction and generated confusion matrix\n",
    "pred_result = lrmodel.predict(X_test)\n",
    "cm = confusion_matrix(y_test,pred_result)\n",
    "print(cm)\n",
    "\n",
    "#generating the classification report\n",
    "c_report = classification_report(y_test, pred_result)\n",
    "print(c_report)"
   ]
  },
  {
   "cell_type": "code",
   "execution_count": 19,
   "id": "c0423dee",
   "metadata": {},
   "outputs": [
    {
     "data": {
      "image/png": "[encoded data removed]",
      "text/plain": [
       "<Figure size 432x288 with 2 Axes>"
      ]
     },
     "metadata": {
      "needs_background": "light"
     },
     "output_type": "display_data"
    }
   ],
   "source": [
    "#plot the confusion matrix using seaborn\n",
    "sns.heatmap(cm, annot=True)\n",
    "plt.show()"
   ]
  },
  {
   "cell_type": "code",
   "execution_count": null,
   "id": "26f26133",
   "metadata": {},
   "outputs": [],
   "source": []
  }
 ],
 "metadata": {
  "kernelspec": {
   "display_name": "Python 3 (ipykernel)",
   "language": "python",
   "name": "python3"
  },
  "language_info": {
   "codemirror_mode": {
    "name": "ipython",
    "version": 3
   },
   "file_extension": ".py",
   "mimetype": "text/x-python",
   "name": "python",
   "nbconvert_exporter": "python",
   "pygments_lexer": "ipython3",
   "version": "3.9.12"
  }
 },
 "nbformat": 4,
 "nbformat_minor": 5
}
