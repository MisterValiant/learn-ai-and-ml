{
 "cells": [
  {
   "cell_type": "code",
   "execution_count": 1,
   "id": "91ade73b",
   "metadata": {},
   "outputs": [],
   "source": [
    "# Step 1: Import packages and classes\n",
    "\n",
    "from sklearn.datasets import make_classification\n",
    "from sklearn.linear_model import LogisticRegression\n",
    "from sklearn.model_selection import train_test_split\n",
    "from sklearn.metrics import confusion_matrix\n",
    "from matplotlib import pyplot as plt"
   ]
  },
  {
   "cell_type": "code",
   "execution_count": 2,
   "id": "e4a442a5",
   "metadata": {},
   "outputs": [
    {
     "name": "stdout",
     "output_type": "stream",
     "text": [
      "(100, 1)\n",
      "[[-0.88145189]\n",
      " [ 0.95963119]\n",
      " [-0.99759281]\n",
      " [ 1.42654839]\n",
      " [-0.91813701]\n",
      " [ 1.18394344]\n",
      " [-0.99724681]\n",
      " [-1.02339865]\n",
      " [ 0.09629327]\n",
      " [ 1.29268619]\n",
      " [-0.99589254]\n",
      " [ 1.08276014]\n",
      " [ 1.08652742]\n",
      " [ 0.66495056]\n",
      " [ 0.05368297]\n",
      " [-0.94552458]\n",
      " [-1.12348719]\n",
      " [-1.09525837]\n",
      " [ 0.795688  ]\n",
      " [ 0.42839461]\n",
      " [-0.90398214]\n",
      " [-1.08324974]\n",
      " [ 1.59860983]\n",
      " [-1.2276708 ]\n",
      " [ 0.14277069]\n",
      " [ 0.54000409]\n",
      " [ 0.61675521]\n",
      " [ 0.04513571]\n",
      " [ 1.79527212]\n",
      " [-0.84364751]\n",
      " [-1.05284623]\n",
      " [-1.00021818]\n",
      " [ 0.67935188]\n",
      " [ 1.60256509]\n",
      " [-0.92870412]\n",
      " [ 0.28998401]\n",
      " [-1.11907654]\n",
      " [ 1.19567142]\n",
      " [-1.04026439]\n",
      " [ 1.82828012]\n",
      " [-0.89546437]\n",
      " [-0.97577472]\n",
      " [-0.87669801]\n",
      " [ 0.74374344]\n",
      " [-1.10315895]\n",
      " [ 0.3196676 ]\n",
      " [ 1.94554395]\n",
      " [-0.81301875]\n",
      " [-1.11403022]\n",
      " [ 1.26824304]\n",
      " [ 1.19425683]\n",
      " [ 0.14943922]\n",
      " [-1.00637397]\n",
      " [ 0.42865223]\n",
      " [-1.195243  ]\n",
      " [-0.98365278]\n",
      " [-1.01683287]\n",
      " [-1.15548173]\n",
      " [ 0.94508447]\n",
      " [-0.87935739]\n",
      " [ 1.18181428]\n",
      " [-1.04669181]\n",
      " [ 1.82911809]\n",
      " [-1.06659157]\n",
      " [-0.92858275]\n",
      " [-1.01846537]\n",
      " [-1.12351829]\n",
      " [-1.06276716]\n",
      " [-1.1740745 ]\n",
      " [-0.01119204]\n",
      " [ 1.17303373]\n",
      " [-0.81061414]\n",
      " [ 1.69253567]\n",
      " [ 1.39432184]\n",
      " [ 1.62516694]\n",
      " [-0.91695053]\n",
      " [ 1.12240428]\n",
      " [-1.1536117 ]\n",
      " [-0.91199345]\n",
      " [-1.11344175]\n",
      " [ 0.62977569]\n",
      " [ 1.1584626 ]\n",
      " [-1.13920761]\n",
      " [-1.02759837]\n",
      " [ 1.03527122]\n",
      " [ 1.04578575]\n",
      " [ 2.29246434]\n",
      " [ 0.89692838]\n",
      " [ 0.63714292]\n",
      " [-0.76004614]\n",
      " [-1.06650504]\n",
      " [ 1.0213316 ]\n",
      " [ 1.58173058]\n",
      " [-0.90555091]\n",
      " [-1.01725008]\n",
      " [ 1.21226136]\n",
      " [ 1.12030841]\n",
      " [-1.07062605]\n",
      " [-0.81240395]\n",
      " [ 1.08028445]]\n",
      "[0 1 0 1 0 1 0 0 1 1 0 1 1 1 1 0 0 0 1 1 0 0 1 0 1 1 1 1 1 0 0 0 1 1 0 1 0\n",
      " 1 0 1 0 0 0 1 0 1 1 0 1 1 1 1 0 1 0 0 0 0 1 0 1 0 1 0 0 0 0 0 0 1 1 0 1 1\n",
      " 1 0 1 0 0 0 1 1 0 0 1 1 1 1 1 0 0 1 1 0 0 1 1 0 0 1]\n"
     ]
    },
    {
     "data": {
      "image/png": "[encoded data removed]",
      "text/plain": [
       "<Figure size 432x288 with 1 Axes>"
      ]
     },
     "metadata": {
      "needs_background": "light"
     },
     "output_type": "display_data"
    }
   ],
   "source": [
    "# Feed data\n",
    "\n",
    "#generates a binary dataset\n",
    "#everytime this code runs a new dataset is created\n",
    "x, y = make_classification(\n",
    "n_samples=100,\n",
    "n_features=1,\n",
    "n_classes=2,\n",
    "n_clusters_per_class=1,\n",
    "flip_y=0.03,\n",
    "n_informative=1,\n",
    "n_redundant=0,\n",
    "n_repeated=0\n",
    ")\n",
    "\n",
    "print(x.shape)\n",
    "print(x)\n",
    "print(y)\n",
    "plt.scatter(x, y, c=y, cmap='rainbow')\n",
    "plt.show()"
   ]
  },
  {
   "cell_type": "code",
   "execution_count": 3,
   "id": "cabab5c3",
   "metadata": {},
   "outputs": [
    {
     "data": {
      "text/plain": [
       "LogisticRegression()"
      ]
     },
     "execution_count": 3,
     "metadata": {},
     "output_type": "execute_result"
    }
   ],
   "source": [
    "# Step 3: Create the model and fit the data \n",
    "\n",
    "#splitting the dataset\n",
    "x_train, x_test, y_train, y_test = train_test_split(x, y, random_state=1)\n",
    "\n",
    "lr = LogisticRegression()\n",
    "lr.fit(x_train, y_train)"
   ]
  },
  {
   "cell_type": "code",
   "execution_count": 4,
   "id": "41c4b967",
   "metadata": {},
   "outputs": [
    {
     "name": "stdout",
     "output_type": "stream",
     "text": [
      "[[13  0]\n",
      " [ 0 12]]\n"
     ]
    }
   ],
   "source": [
    "# Step 4: Results / Evaluation of the model\n",
    "\n",
    "y_pred = lr.predict(x_test)\n",
    "cm = confusion_matrix(y_test, y_pred)\n",
    "print(cm)"
   ]
  },
  {
   "cell_type": "code",
   "execution_count": 6,
   "id": "0ea7d3bc",
   "metadata": {},
   "outputs": [
    {
     "name": "stdout",
     "output_type": "stream",
     "text": [
      "1.0\n"
     ]
    }
   ],
   "source": [
    "#check accuracy\n",
    "from sklearn.metrics import accuracy_score\n",
    "\n",
    "score = accuracy_score(y_test, y_pred)\n",
    "print(score)"
   ]
  },
  {
   "cell_type": "code",
   "execution_count": 7,
   "id": "f34dbebf",
   "metadata": {},
   "outputs": [
    {
     "name": "stdout",
     "output_type": "stream",
     "text": [
      "              precision    recall  f1-score   support\n",
      "\n",
      "           0       1.00      1.00      1.00        13\n",
      "           1       1.00      1.00      1.00        12\n",
      "\n",
      "    accuracy                           1.00        25\n",
      "   macro avg       1.00      1.00      1.00        25\n",
      "weighted avg       1.00      1.00      1.00        25\n",
      "\n"
     ]
    }
   ],
   "source": [
    "#classification report\n",
    "from sklearn.metrics import classification_report\n",
    "\n",
    "report = classification_report(y_test, y_pred)\n",
    "print(report)"
   ]
  },
  {
   "cell_type": "code",
   "execution_count": null,
   "id": "f136301a",
   "metadata": {},
   "outputs": [],
   "source": []
  }
 ],
 "metadata": {
  "kernelspec": {
   "display_name": "Python 3 (ipykernel)",
   "language": "python",
   "name": "python3"
  },
  "language_info": {
   "codemirror_mode": {
    "name": "ipython",
    "version": 3
   },
   "file_extension": ".py",
   "mimetype": "text/x-python",
   "name": "python",
   "nbconvert_exporter": "python",
   "pygments_lexer": "ipython3",
   "version": "3.9.12"
  }
 },
 "nbformat": 4,
 "nbformat_minor": 5
}
