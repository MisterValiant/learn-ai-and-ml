{
 "cells": [
  {
   "cell_type": "markdown",
   "id": "915059f2",
   "metadata": {},
   "source": [
    "# Implementing Simple Linear Regression in Python"
   ]
  },
  {
   "cell_type": "markdown",
   "id": "ae9f51bd",
   "metadata": {},
   "source": [
    "# 5 steps for simple LR "
   ]
  },
  {
   "cell_type": "markdown",
   "id": "330a510f",
   "metadata": {},
   "source": [
    "1. Import packages and classes needed.\n",
    "2. Feed in the data (including transformations if necessary).\n",
    "3. Create the regression model and fit it with the data.\n",
    "4. Use the results of the model fitting to verify if the it is satisfactory.\n",
    "5. Make predictions with the model."
   ]
  },
  {
   "cell_type": "code",
   "execution_count": 6,
   "id": "e2acb8f7",
   "metadata": {},
   "outputs": [],
   "source": [
    "# Step 1: Import Packages and Classes\n",
    "import numpy as np\n",
    "from sklearn.linear_model import LinearRegression"
   ]
  },
  {
   "cell_type": "code",
   "execution_count": 7,
   "id": "70d02794",
   "metadata": {},
   "outputs": [
    {
     "name": "stdout",
     "output_type": "stream",
     "text": [
      "(6, 1)\n",
      "(6,)\n"
     ]
    }
   ],
   "source": [
    "# Step 2: Feed in the data with a numpy array\n",
    "\n",
    "# convert into a 2D array\n",
    "x = np.array([5,15,25,35,45,55]).reshape((-1,1))\n",
    "y = np.array([5,20,14,32,22,38])\n",
    "\n",
    "#print the shape\n",
    "print(x.shape)\n",
    "print(y.shape)"
   ]
  },
  {
   "cell_type": "code",
   "execution_count": 8,
   "id": "4ca0a765",
   "metadata": {},
   "outputs": [],
   "source": [
    "# Step 3: First create the model, then secondly fits the training set for training\n",
    "model=LinearRegression().fit(x,y)"
   ]
  },
  {
   "cell_type": "code",
   "execution_count": 9,
   "id": "20c62dc9",
   "metadata": {},
   "outputs": [
    {
     "name": "stdout",
     "output_type": "stream",
     "text": [
      "Coefficient of determination:  0.715875613747954\n",
      "Intercept, θ0:  5.633333333333329\n",
      "Slope, θ1:  [0.54]\n"
     ]
    }
   ],
   "source": [
    "# step 4: Results\n",
    "\n",
    "#accuracy of the model\n",
    "r_sq = model.score(x,y)\n",
    "print(\"Coefficient of determination: \", r_sq)\n",
    "\n",
    "# θ0, intercept\n",
    "print(\"Intercept, θ0: \",model.intercept_)\n",
    "\n",
    "# θ1, Slope/gradient\n",
    "print(\"Slope, θ1: \", model.coef_)"
   ]
  },
  {
   "cell_type": "code",
   "execution_count": 16,
   "id": "65f4a07f",
   "metadata": {},
   "outputs": [
    {
     "name": "stdout",
     "output_type": "stream",
     "text": [
      "prediction:  [ 8.33333333 13.73333333 19.13333333 24.53333333 29.93333333 35.33333333]\n",
      "Initial:  [5, 20, 14, 32, 22, 38]\n"
     ]
    }
   ],
   "source": [
    "# step 5: Predictions \n",
    "\n",
    "# Feed in same data to test predictions\n",
    "y_pred=model.predict(x)\n",
    "print('prediction: ', y_pred)\n",
    "print('Initial: ', [5,20,14,32,22,38])"
   ]
  },
  {
   "cell_type": "code",
   "execution_count": 17,
   "id": "78d549b5",
   "metadata": {},
   "outputs": [
    {
     "name": "stdout",
     "output_type": "stream",
     "text": [
      "New predictions:  [ 7.79333333 11.03333333 48.83333333]\n"
     ]
    }
   ],
   "source": [
    "# if accuracy is good we do predictions with new data\n",
    "x_new=np.array([4,10,80]).reshape((-1,1))\n",
    "y_pred_new=model.predict(x_new)\n",
    "print('New predictions: ', y_pred_new)"
   ]
  },
  {
   "cell_type": "code",
   "execution_count": null,
   "id": "86280bf7",
   "metadata": {},
   "outputs": [],
   "source": []
  }
 ],
 "metadata": {
  "kernelspec": {
   "display_name": "Python 3 (ipykernel)",
   "language": "python",
   "name": "python3"
  },
  "language_info": {
   "codemirror_mode": {
    "name": "ipython",
    "version": 3
   },
   "file_extension": ".py",
   "mimetype": "text/x-python",
   "name": "python",
   "nbconvert_exporter": "python",
   "pygments_lexer": "ipython3",
   "version": "3.9.12"
  }
 },
 "nbformat": 4,
 "nbformat_minor": 5
}
