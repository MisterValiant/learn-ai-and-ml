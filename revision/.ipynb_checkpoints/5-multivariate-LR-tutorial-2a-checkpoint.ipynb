{
 "cells": [
  {
   "cell_type": "markdown",
   "id": "f560ba5f",
   "metadata": {},
   "source": [
    "## 5 steps for multivariate LR "
   ]
  },
  {
   "cell_type": "markdown",
   "id": "0748d9dc",
   "metadata": {},
   "source": [
    "### Multivariate with 2 features/variables"
   ]
  },
  {
   "cell_type": "markdown",
   "id": "7ce8f62a",
   "metadata": {},
   "source": [
    "1. Import packages and classes needed.\n",
    "2. Feed in the data (including transformations if necessary).\n",
    "3. Create the regression model and fit it with the data.\n",
    "4. Use the results of the model fitting to verify if the it is satisfactory.\n",
    "5. Make predictions with the model."
   ]
  },
  {
   "cell_type": "code",
   "execution_count": 2,
   "id": "919695c1",
   "metadata": {},
   "outputs": [],
   "source": [
    "# step 1: import classes and packages\n",
    "import numpy as np\n",
    "from sklearn.linear_model import LinearRegression\n",
    "\n",
    "# pandas for manipulation\n",
    "import pandas as pd\n",
    "\n",
    "#visualisation\n",
    "import matplotlib.pyplot as plt\n",
    "from mpl_toolkits.mplot3d import Axes3D"
   ]
  },
  {
   "cell_type": "code",
   "execution_count": 3,
   "id": "62d0bc43",
   "metadata": {},
   "outputs": [
    {
     "name": "stdout",
     "output_type": "stream",
     "text": [
      "[[ 0  1]\n",
      " [ 5  1]\n",
      " [15  2]\n",
      " [25  5]\n",
      " [35 11]\n",
      " [45 15]\n",
      " [55 34]\n",
      " [60 35]]\n",
      "[ 4  5 20 14 32 22 38 43]\n"
     ]
    }
   ],
   "source": [
    "# step 2: Feed in the data\n",
    "\n",
    "x = [[0, 1], [5, 1], [15, 2], [25, 5], [35, 11], [45, 15], [55, 34], [60, 35]]\n",
    "y = [4, 5, 20, 14, 32, 22, 38, 43]\n",
    "\n",
    "#convert into numpy arrays\n",
    "x, y = np.array(x), np.array(y)\n",
    "\n",
    "#output arrays\n",
    "print(x)\n",
    "print(y)"
   ]
  },
  {
   "cell_type": "code",
   "execution_count": 4,
   "id": "95f9c604",
   "metadata": {},
   "outputs": [],
   "source": [
    "# step 3: Create the model and fit the dataset for training\n",
    "model=LinearRegression().fit(x,y)"
   ]
  },
  {
   "cell_type": "code",
   "execution_count": 5,
   "id": "2a4ce507",
   "metadata": {},
   "outputs": [
    {
     "name": "stdout",
     "output_type": "stream",
     "text": [
      "coefficient of determination: 0.8615939258756775\n",
      "intercept: 5.52257927519819\n",
      "slope/gradient: [0.44706965 0.25502548]\n"
     ]
    }
   ],
   "source": [
    "# Step 4: Results\n",
    "\n",
    "#Model accuracy\n",
    "model = LinearRegression().fit(x, y)\n",
    "r_sq = model.score(x, y)\n",
    "print('coefficient of determination:', r_sq)\n",
    "\n",
    "#model θ0\n",
    "print('intercept:', model.intercept_)\n",
    "\n",
    "#model θ1\n",
    "print('slope/gradient:', model.coef_)"
   ]
  },
  {
   "cell_type": "code",
   "execution_count": 6,
   "id": "ab79b3d2",
   "metadata": {},
   "outputs": [
    {
     "name": "stdout",
     "output_type": "stream",
     "text": [
      "[[0 1]\n",
      " [2 3]\n",
      " [4 5]\n",
      " [6 7]\n",
      " [8 9]]\n",
      "[ 5.77760476  7.18179502  8.58598528  9.99017554 11.3943658 ]\n"
     ]
    }
   ],
   "source": [
    "# Step 5: Predictions from new data\n",
    "x_new = np.arange(10).reshape((-1, 2))\n",
    "print('New Dataset:\\n'x_new)\n",
    "\n",
    "y_new = model.predict(x_new)\n",
    "print(y_new)"
   ]
  },
  {
   "cell_type": "code",
   "execution_count": null,
   "id": "56b92600",
   "metadata": {},
   "outputs": [],
   "source": []
  }
 ],
 "metadata": {
  "kernelspec": {
   "display_name": "Python 3 (ipykernel)",
   "language": "python",
   "name": "python3"
  },
  "language_info": {
   "codemirror_mode": {
    "name": "ipython",
    "version": 3
   },
   "file_extension": ".py",
   "mimetype": "text/x-python",
   "name": "python",
   "nbconvert_exporter": "python",
   "pygments_lexer": "ipython3",
   "version": "3.9.12"
  }
 },
 "nbformat": 4,
 "nbformat_minor": 5
}
