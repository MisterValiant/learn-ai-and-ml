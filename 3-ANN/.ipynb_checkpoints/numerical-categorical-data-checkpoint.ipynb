{
 "cells": [
  {
   "cell_type": "code",
   "execution_count": 13,
   "id": "05a32151",
   "metadata": {},
   "outputs": [
    {
     "name": "stdout",
     "output_type": "stream",
     "text": [
      "(44, 6)\n"
     ]
    }
   ],
   "source": [
    "import pandas as pd\n",
    "\n",
    "dummy_df = pd.read_csv('./dataset/dummy_ds.csv')\n",
    "print(dummy_df.shape)\n",
    "dummy_df.head();"
   ]
  },
  {
   "cell_type": "code",
   "execution_count": 9,
   "id": "ebc6849f",
   "metadata": {},
   "outputs": [],
   "source": [
    "data, target = dummy_df.drop(columns=\"employed\"), dummy_df[\"employed\"];\n",
    "\n",
    "# Same as :\n",
    "# data = dummy_df.drop(\"employed\")\n",
    "# target = dummy_df[\"employed\"]\n",
    "# in two separate lines\n",
    "\n",
    "data.head();"
   ]
  },
  {
   "cell_type": "code",
   "execution_count": 19,
   "id": "6c8bc590",
   "metadata": {},
   "outputs": [
    {
     "name": "stdout",
     "output_type": "stream",
     "text": [
      "0    y\n",
      "1    n\n",
      "2    n\n",
      "3    y\n",
      "4    y\n",
      "Name: employed, dtype: object\n"
     ]
    }
   ],
   "source": [
    "print(target.head());"
   ]
  },
  {
   "cell_type": "code",
   "execution_count": 20,
   "id": "6a32b23a",
   "metadata": {},
   "outputs": [
    {
     "data": {
      "text/plain": [
       "age           int64\n",
       "education    object\n",
       "region       object\n",
       "savings       int64\n",
       "house        object\n",
       "dtype: object"
      ]
     },
     "execution_count": 20,
     "metadata": {},
     "output_type": "execute_result"
    }
   ],
   "source": [
    "data.dtypes"
   ]
  },
  {
   "cell_type": "code",
   "execution_count": 17,
   "id": "0143a9bf",
   "metadata": {},
   "outputs": [
    {
     "data": {
      "text/html": [
       "<div>\n",
       "<style scoped>\n",
       "    .dataframe tbody tr th:only-of-type {\n",
       "        vertical-align: middle;\n",
       "    }\n",
       "\n",
       "    .dataframe tbody tr th {\n",
       "        vertical-align: top;\n",
       "    }\n",
       "\n",
       "    .dataframe thead th {\n",
       "        text-align: right;\n",
       "    }\n",
       "</style>\n",
       "<table border=\"1\" class=\"dataframe\">\n",
       "  <thead>\n",
       "    <tr style=\"text-align: right;\">\n",
       "      <th></th>\n",
       "      <th>age</th>\n",
       "      <th>savings</th>\n",
       "    </tr>\n",
       "  </thead>\n",
       "  <tbody>\n",
       "    <tr>\n",
       "      <th>0</th>\n",
       "      <td>23</td>\n",
       "      <td>13000</td>\n",
       "    </tr>\n",
       "    <tr>\n",
       "      <th>1</th>\n",
       "      <td>67</td>\n",
       "      <td>25013</td>\n",
       "    </tr>\n",
       "    <tr>\n",
       "      <th>2</th>\n",
       "      <td>34</td>\n",
       "      <td>13000</td>\n",
       "    </tr>\n",
       "    <tr>\n",
       "      <th>3</th>\n",
       "      <td>56</td>\n",
       "      <td>4000</td>\n",
       "    </tr>\n",
       "    <tr>\n",
       "      <th>4</th>\n",
       "      <td>78</td>\n",
       "      <td>12000</td>\n",
       "    </tr>\n",
       "  </tbody>\n",
       "</table>\n",
       "</div>"
      ],
      "text/plain": [
       "   age  savings\n",
       "0   23    13000\n",
       "1   67    25013\n",
       "2   34    13000\n",
       "3   56     4000\n",
       "4   78    12000"
      ]
     },
     "execution_count": 17,
     "metadata": {},
     "output_type": "execute_result"
    }
   ],
   "source": [
    "numerical_data = [\"age\", \"savings\"]\n",
    "data[numerical_data].head()"
   ]
  },
  {
   "cell_type": "code",
   "execution_count": null,
   "id": "b17092a5",
   "metadata": {},
   "outputs": [],
   "source": []
  }
 ],
 "metadata": {
  "kernelspec": {
   "display_name": "Python 3 (ipykernel)",
   "language": "python",
   "name": "python3"
  },
  "language_info": {
   "codemirror_mode": {
    "name": "ipython",
    "version": 3
   },
   "file_extension": ".py",
   "mimetype": "text/x-python",
   "name": "python",
   "nbconvert_exporter": "python",
   "pygments_lexer": "ipython3",
   "version": "3.9.12"
  }
 },
 "nbformat": 4,
 "nbformat_minor": 5
}
