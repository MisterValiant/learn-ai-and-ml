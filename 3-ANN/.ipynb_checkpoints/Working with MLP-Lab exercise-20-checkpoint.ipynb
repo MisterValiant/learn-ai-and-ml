{
 "cells": [
  {
   "cell_type": "markdown",
   "id": "0e7fa8b3",
   "metadata": {},
   "source": [
    "# Multi-Layer Perception\n",
    "\n",
    "Perception is equivalent to a neuron/node in ANN\n",
    "- It recieves input, which are process by an activation function to produce an output.\n",
    "\n",
    "There are different types of activation functions:\n",
    "1. Logistic (Sigmoid) function\n",
    "2. Trigonometric function (tanh)\n",
    "3. Rectified Linear Unit function (ReLU) : Default for hidden layers\n"
   ]
  },
  {
   "cell_type": "code",
   "execution_count": 15,
   "id": "55ac8800",
   "metadata": {},
   "outputs": [],
   "source": [
    "# Step 1: Import packages and classes\n",
    "\n",
    "import pandas as pd\n",
    "import numpy as np\n",
    "import matplotlib.pyplot as plt\n",
    "from sklearn.model_selection import train_test_split\n",
    "from sklearn.metrics import confusion_matrix\n",
    "from sklearn.metrics import accuracy_score\n",
    "from sklearn.metrics import classification_report\n",
    "from sklearn.preprocessing import StandardScaler\n",
    "from sklearn.neural_network import MLPClassifier"
   ]
  },
  {
   "cell_type": "code",
   "execution_count": 16,
   "id": "d1b62afd",
   "metadata": {},
   "outputs": [
    {
     "name": "stdout",
     "output_type": "stream",
     "text": [
      ">>>>head<<<<\n",
      "   age  sex  cp  trestbps  chol  fbs  restecg  thalach  exang  oldpeak  slope  \\\n",
      "0   63    1   1       145   233    1        2      150      0      2.3      3   \n",
      "1   67    1   4       160   286    0        2      108      1      1.5      2   \n",
      "2   67    1   4       120   229    0        2      129      1      2.6      2   \n",
      "3   37    1   3       130   250    0        0      187      0      3.5      3   \n",
      "4   41    0   2       130   204    0        2      172      0      1.4      1   \n",
      "\n",
      "  ca thal  pred_value  \n",
      "0  0    6           0  \n",
      "1  3    3           2  \n",
      "2  2    7           1  \n",
      "3  0    3           0  \n",
      "4  0    3           0  \n",
      ">>>>count<<<<\n",
      "age           303\n",
      "sex           303\n",
      "cp            303\n",
      "trestbps      303\n",
      "chol          303\n",
      "fbs           303\n",
      "restecg       303\n",
      "thalach       303\n",
      "exang         303\n",
      "oldpeak       303\n",
      "slope         303\n",
      "ca            303\n",
      "thal          303\n",
      "pred_value    303\n",
      "dtype: int64\n",
      ">>>>info<<<<\n",
      "<class 'pandas.core.frame.DataFrame'>\n",
      "RangeIndex: 303 entries, 0 to 302\n",
      "Data columns (total 14 columns):\n",
      " #   Column      Non-Null Count  Dtype  \n",
      "---  ------      --------------  -----  \n",
      " 0   age         303 non-null    int64  \n",
      " 1   sex         303 non-null    int64  \n",
      " 2   cp          303 non-null    int64  \n",
      " 3   trestbps    303 non-null    int64  \n",
      " 4   chol        303 non-null    int64  \n",
      " 5   fbs         303 non-null    int64  \n",
      " 6   restecg     303 non-null    int64  \n",
      " 7   thalach     303 non-null    int64  \n",
      " 8   exang       303 non-null    int64  \n",
      " 9   oldpeak     303 non-null    float64\n",
      " 10  slope       303 non-null    int64  \n",
      " 11  ca          303 non-null    object \n",
      " 12  thal        303 non-null    object \n",
      " 13  pred_value  303 non-null    int64  \n",
      "dtypes: float64(1), int64(11), object(2)\n",
      "memory usage: 33.3+ KB\n",
      "None\n"
     ]
    }
   ],
   "source": [
    "# Step 2: Feed the data\n",
    "\n",
    "cleveland_df = pd.read_csv('./dataset/processed_cleveland.csv')\n",
    "\n",
    "# head() outputs the first set of rows.\n",
    "print(\">>>>head<<<<\")\n",
    "print(cleveland_df.head())\n",
    "\n",
    "# count() returns the number of rows for each column in the dataset.\n",
    "print(\">>>>count<<<<\")\n",
    "print(cleveland_df.count())\n",
    "\n",
    "# info() provides other additional details, such as the datatype\n",
    "print(\">>>>info<<<<\")\n",
    "print(cleveland_df.info())"
   ]
  },
  {
   "cell_type": "code",
   "execution_count": 17,
   "id": "3dafe2f1",
   "metadata": {},
   "outputs": [
    {
     "name": "stdout",
     "output_type": "stream",
     "text": [
      "age           297\n",
      "sex           297\n",
      "cp            297\n",
      "trestbps      297\n",
      "chol          297\n",
      "fbs           297\n",
      "restecg       297\n",
      "thalach       297\n",
      "exang         297\n",
      "oldpeak       297\n",
      "slope         297\n",
      "ca            297\n",
      "thal          297\n",
      "pred_value    297\n",
      "dtype: int64\n"
     ]
    }
   ],
   "source": [
    "# Step 3: Remove missing data\n",
    "\n",
    "cleveland_df[\"ca\"]=pd.to_numeric(cleveland_df[\"ca\"],errors='coerce')\n",
    "cleveland_df[\"thal\"]=pd.to_numeric(cleveland_df[\"thal\"],errors='coerce')\n",
    "cleveland_df.dropna(inplace=True)\n",
    "print(cleveland_df.count())"
   ]
  },
  {
   "cell_type": "code",
   "execution_count": 18,
   "id": "c46e5dd5",
   "metadata": {},
   "outputs": [],
   "source": [
    "# Step 4: create, train and test\n",
    "\n",
    "#split the data for train and test\n",
    "X_train, X_test, y_train, y_test = train_test_split(cleveland_df.drop('pred_value', axis=1), cleveland_df['pred_value'], test_size=0.20, random_state=45)"
   ]
  },
  {
   "cell_type": "code",
   "execution_count": 19,
   "id": "4fdaa291",
   "metadata": {},
   "outputs": [],
   "source": [
    "#normalize(scale) data to allow MLP to converge\n",
    "scaler = StandardScaler()\n",
    "scaler.fit(X_train)\n",
    "#apply transformation to data\n",
    "X_train = scaler.transform(X_train)\n",
    "X_test = scaler.transform(X_test)"
   ]
  },
  {
   "cell_type": "code",
   "execution_count": 20,
   "id": "53f368a1",
   "metadata": {},
   "outputs": [
    {
     "name": "stdout",
     "output_type": "stream",
     "text": [
      "<bound method BaseEstimator.get_params of MLPClassifier(hidden_layer_sizes=(10, 10), max_iter=3000)>\n"
     ]
    },
    {
     "data": {
      "text/plain": [
       "MLPClassifier(hidden_layer_sizes=(10, 10), max_iter=3000)"
      ]
     },
     "execution_count": 20,
     "metadata": {},
     "output_type": "execute_result"
    }
   ],
   "source": [
    "#create instance of MLP with 2 hidden layers and 3000 iterations\n",
    "mlp = MLPClassifier(hidden_layer_sizes=(10,10), max_iter=3000)\n",
    "\n",
    "#overview of parameter values (default)\n",
    "print(mlp.get_params)\n",
    "\n",
    "#fit the scaled data\n",
    "mlp.fit(X_train, y_train)"
   ]
  },
  {
   "cell_type": "code",
   "execution_count": 21,
   "id": "4cf2f131",
   "metadata": {},
   "outputs": [
    {
     "name": "stdout",
     "output_type": "stream",
     "text": [
      "[[28  5  0  1  0]\n",
      " [ 2  4  0  3  0]\n",
      " [ 1  2  1  0  2]\n",
      " [ 2  1  1  2  1]\n",
      " [ 1  0  1  2  0]]\n",
      "              precision    recall  f1-score   support\n",
      "\n",
      "           0       0.82      0.82      0.82        34\n",
      "           1       0.33      0.44      0.38         9\n",
      "           2       0.33      0.17      0.22         6\n",
      "           3       0.25      0.29      0.27         7\n",
      "           4       0.00      0.00      0.00         4\n",
      "\n",
      "    accuracy                           0.58        60\n",
      "   macro avg       0.35      0.34      0.34        60\n",
      "weighted avg       0.58      0.58      0.58        60\n",
      "\n"
     ]
    }
   ],
   "source": [
    "# Step 5: Results\n",
    "#make predictions and generated confusion matrix\n",
    "pred_result = mlp.predict(X_test)\n",
    "cm = confusion_matrix(y_test, pred_result)\n",
    "print(cm)\n",
    "#generating the classification report\n",
    "c_report = classification_report(y_test, pred_result)\n",
    "print(c_report)"
   ]
  },
  {
   "cell_type": "code",
   "execution_count": null,
   "id": "a6da8bb8",
   "metadata": {},
   "outputs": [],
   "source": []
  }
 ],
 "metadata": {
  "kernelspec": {
   "display_name": "Python 3 (ipykernel)",
   "language": "python",
   "name": "python3"
  },
  "language_info": {
   "codemirror_mode": {
    "name": "ipython",
    "version": 3
   },
   "file_extension": ".py",
   "mimetype": "text/x-python",
   "name": "python",
   "nbconvert_exporter": "python",
   "pygments_lexer": "ipython3",
   "version": "3.9.12"
  }
 },
 "nbformat": 4,
 "nbformat_minor": 5
}
