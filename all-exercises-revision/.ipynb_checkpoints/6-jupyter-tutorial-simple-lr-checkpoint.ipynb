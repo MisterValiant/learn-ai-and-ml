{
 "cells": [
  {
   "cell_type": "code",
   "execution_count": 1,
   "id": "90e432e3",
   "metadata": {},
   "outputs": [],
   "source": [
    "# Step 1: Import classes and packages\n",
    "\n",
    "import pandas as pd\n",
    "import numpy as np\n",
    "from sklearn import linear_model\n",
    "from sklearn.model_selection import train_test_split\n",
    "from sklearn import metrics\n",
    "import matplotlib.pyplot as plt\n",
    "from sklearn.linear_model import LinearRegression\n"
   ]
  },
  {
   "cell_type": "code",
   "execution_count": 3,
   "id": "1a63aba6",
   "metadata": {},
   "outputs": [
    {
     "name": "stdout",
     "output_type": "stream",
     "text": [
      "        hours      marks\n",
      "0   32.502345  31.707006\n",
      "1   53.426804  68.777596\n",
      "2   61.530358  62.562382\n",
      "3   47.475640  71.546632\n",
      "4   59.813208  87.230925\n",
      "5   22.502345  30.707006\n",
      "6   60.426804  68.777596\n",
      "7   65.530358  62.562382\n",
      "8   20.475640  25.546632\n",
      "9   80.813208  89.230925\n",
      "10  35.475640  45.546632\n",
      "11  69.813208  85.230925\n",
      "12  25.502345  33.707006\n",
      "13  65.426804  69.777596\n",
      "14  65.530358  65.562382\n",
      "15  69.813208  85.230925\n",
      "16  28.502345  33.707006\n",
      "17  69.426804  70.777596\n",
      "18  65.530358  55.562382\n",
      "19  32.502345  31.707006\n",
      "20  53.426804  68.777596\n",
      "21  61.530358  62.562382\n",
      "22  47.475640  71.546632\n",
      "23  32.502345  31.707006\n",
      "24  53.426804  68.777596\n",
      "25  61.530358  62.562382\n",
      "26  45.475640  60.546632\n",
      "27  29.502345  39.707006\n",
      "28  49.426804  52.777596\n",
      "29  59.530358  68.562382\n",
      "30  49.475640  68.546632\n",
      "31  59.813208  87.230925\n",
      "32  22.502345  30.707006\n",
      "33  70.804426  81.596426\n",
      "34  65.530358  62.562382\n",
      "35  23.675640  12.776320\n",
      "(36, 2)\n"
     ]
    }
   ],
   "source": [
    "# Step 2: Feed data\n",
    "\n",
    "df=pd.read_csv('datasets/LR-DATA.csv', index_col=False)\n",
    "print(df)\n",
    "print(df.shape)"
   ]
  },
  {
   "cell_type": "code",
   "execution_count": 13,
   "id": "feaab0f5",
   "metadata": {},
   "outputs": [
    {
     "name": "stdout",
     "output_type": "stream",
     "text": [
      "X-Train - Predictors shape (28, 1)\n",
      "Y-Train - Target shape (28, 1)\n",
      "X-Test - Predictors shape (8, 1)\n",
      "Y-Train - Target shape (28, 1)\n"
     ]
    }
   ],
   "source": [
    "#splitting data into training and test dataset\n",
    "#test dataset is 20%, training dataset is 80%\n",
    "x_train, x_test, y_train, y_test = train_test_split(df['hours'], df['marks'], test_size=0.2, random_state=42)\n",
    "\n",
    "#reshape arrays\n",
    "x_train=np.array(x_train).reshape((-1,1))\n",
    "x_test=np.array(x_test).reshape((-1,1))\n",
    "y_train=np.array(y_train).reshape((-1,1))\n",
    "y_test=np.array(y_test).reshape((-1,1))\n",
    "\n",
    "#print shape to have an overview of records\n",
    "print('X-Train - Predictors shape', x_train.shape)\n",
    "print('Y-Train - Target shape', y_train.shape)\n",
    "print('X-Test - Predictors shape', x_test.shape)\n",
    "print('Y-Train - Target shape', y_train.shape)"
   ]
  },
  {
   "cell_type": "code",
   "execution_count": 14,
   "id": "200b08cc",
   "metadata": {},
   "outputs": [
    {
     "data": {
      "text/plain": [
       "LinearRegression()"
      ]
     },
     "execution_count": 14,
     "metadata": {},
     "output_type": "execute_result"
    }
   ],
   "source": [
    "# Step 3: Create model and fit training dataset\n",
    "lrm=linear_model.LinearRegression()\n",
    "lrm.fit(x_train,y_train)"
   ]
  },
  {
   "cell_type": "code",
   "execution_count": 15,
   "id": "76921272",
   "metadata": {},
   "outputs": [
    {
     "name": "stdout",
     "output_type": "stream",
     "text": [
      "Co-efficient of LR [[1.00051958]]\n",
      "Intercept of LR model [7.80521586]\n"
     ]
    }
   ],
   "source": [
    "# Step 4: Results\n",
    "print('Co-efficient of LR',lrm.coef_)\n",
    "print('Intercept of LR model',lrm.intercept_)"
   ]
  },
  {
   "cell_type": "code",
   "execution_count": 16,
   "id": "447ac2f1",
   "metadata": {},
   "outputs": [
    {
     "name": "stdout",
     "output_type": "stream",
     "text": [
      "Mean Square Error 122.25107154110343\n",
      "Model R^2 Sqaure value 0.7672943144414737\n"
     ]
    }
   ],
   "source": [
    "# Step 5: Prediction\n",
    "prediction=lrm.predict(x_test)\n",
    "print('Mean Square Error', metrics.mean_squared_error(y_test, prediction))\n",
    "print('Model R^2 Sqaure value', metrics.r2_score(y_test, prediction))"
   ]
  },
  {
   "cell_type": "code",
   "execution_count": 17,
   "id": "76b13e40",
   "metadata": {},
   "outputs": [
    {
     "data": {
      "image/png": "[encoded data removed]",
      "text/plain": [
       "<Figure size 432x288 with 1 Axes>"
      ]
     },
     "metadata": {
      "needs_background": "light"
     },
     "output_type": "display_data"
    },
    {
     "name": "stdout",
     "output_type": "stream",
     "text": [
      "done\n"
     ]
    }
   ],
   "source": [
    "#visualisation: plot a graph\n",
    "plt.scatter(x_train,y_train)\n",
    "plt.plot(x_test,prediction,color='red',linewidth=3)\n",
    "plt.xlabel('Hours')\n",
    "plt.ylabel('Marks')\n",
    "plt.title('Linear Regression')\n",
    "plt.show()\n",
    "print('done')"
   ]
  },
  {
   "cell_type": "code",
   "execution_count": null,
   "id": "4797f7e1",
   "metadata": {},
   "outputs": [],
   "source": []
  }
 ],
 "metadata": {
  "kernelspec": {
   "display_name": "Python 3 (ipykernel)",
   "language": "python",
   "name": "python3"
  },
  "language_info": {
   "codemirror_mode": {
    "name": "ipython",
    "version": 3
   },
   "file_extension": ".py",
   "mimetype": "text/x-python",
   "name": "python",
   "nbconvert_exporter": "python",
   "pygments_lexer": "ipython3",
   "version": "3.9.12"
  }
 },
 "nbformat": 4,
 "nbformat_minor": 5
}
