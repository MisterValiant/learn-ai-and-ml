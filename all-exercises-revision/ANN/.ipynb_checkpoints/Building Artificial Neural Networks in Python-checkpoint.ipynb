{
 "cells": [
  {
   "cell_type": "markdown",
   "id": "0e7fa8b3",
   "metadata": {},
   "source": [
    "## Steps for:\n",
    "\n",
    "### Linear Regression\n",
    "\n",
    "1. Import packages and classes\n",
    "2. Feed data\n",
    "3. Create model and fit training dataset\n",
    "4. Results / Verify\n",
    "5. Prediction\n",
    "6. Visualisation\n",
    "\n",
    "### Multi-Layer Perception\n",
    "\n",
    "1. Import packages and classes\n",
    "2. Feed data\n",
    "3. Remove missing data\n",
    "4. Create model and fit training dataset\n",
    "5. Results and predictions\n",
    "6. Report / Visualisation\n",
    "\n",
    "---\n",
    "\n"
   ]
  },
  {
   "cell_type": "code",
   "execution_count": 1,
   "id": "55ac8800",
   "metadata": {},
   "outputs": [],
   "source": [
    "# Step 1: Import packages and classes\n",
    "\n",
    "import pandas as pd\n",
    "import numpy as np\n",
    "import matplotlib.pyplot as plt\n",
    "from sklearn.model_selection import train_test_split\n",
    "from sklearn.metrics import confusion_matrix\n",
    "from sklearn.metrics import accuracy_score\n",
    "from sklearn.metrics import classification_report\n",
    "from sklearn.preprocessing import StandardScaler\n",
    "from sklearn.neural_network import MLPClassifier"
   ]
  },
  {
   "cell_type": "code",
   "execution_count": 2,
   "id": "d1b62afd",
   "metadata": {},
   "outputs": [
    {
     "name": "stdout",
     "output_type": "stream",
     "text": [
      ">>>>head<<<<\n",
      "    s_code  c_t  c_size  c_shape  m_a  e_cell_size b_n  b_c  n_n  m  class\n",
      "0  1000025    5       1        1    1            2   1    3    1  1      2\n",
      "1  1002945    5       4        4    5            7  10    3    2  1      2\n",
      "2  1015425    3       1        1    1            2   2    3    1  1      2\n",
      "3  1016277    6       8        8    1            3   4    3    7  1      2\n",
      "4  1017023    4       1        1    3            2   1    3    1  1      2\n",
      ">>>>count<<<<\n",
      "s_code         699\n",
      "c_t            699\n",
      "c_size         699\n",
      "c_shape        699\n",
      "m_a            699\n",
      "e_cell_size    699\n",
      "b_n            699\n",
      "b_c            699\n",
      "n_n            699\n",
      "m              699\n",
      "class          699\n",
      "dtype: int64\n",
      ">>>>info<<<<\n",
      "<class 'pandas.core.frame.DataFrame'>\n",
      "RangeIndex: 699 entries, 0 to 698\n",
      "Data columns (total 11 columns):\n",
      " #   Column       Non-Null Count  Dtype \n",
      "---  ------       --------------  ----- \n",
      " 0   s_code       699 non-null    int64 \n",
      " 1   c_t          699 non-null    int64 \n",
      " 2   c_size       699 non-null    int64 \n",
      " 3   c_shape      699 non-null    int64 \n",
      " 4   m_a          699 non-null    int64 \n",
      " 5   e_cell_size  699 non-null    int64 \n",
      " 6   b_n          699 non-null    object\n",
      " 7   b_c          699 non-null    int64 \n",
      " 8   n_n          699 non-null    int64 \n",
      " 9   m            699 non-null    int64 \n",
      " 10  class        699 non-null    int64 \n",
      "dtypes: int64(10), object(1)\n",
      "memory usage: 60.2+ KB\n",
      "None\n"
     ]
    }
   ],
   "source": [
    "# Step 2: Feed the data\n",
    "\n",
    "cancer_df = pd.read_csv('./dataset/bcw.csv')\n",
    "\n",
    "# head() outputs the first set of rows.\n",
    "print(\">>>>head<<<<\")\n",
    "print(cancer_df.head())\n",
    "print()\n",
    "\n",
    "# count() returns the number of rows for each column in the dataset.\n",
    "print(\">>>>count<<<<\")\n",
    "print(cancer_df.count())\n",
    "\n",
    "# info() provides other additional details, such as the datatype\n",
    "print(\">>>>info<<<<\")\n",
    "print(cancer_df.info())"
   ]
  },
  {
   "cell_type": "code",
   "execution_count": 3,
   "id": "3dafe2f1",
   "metadata": {},
   "outputs": [
    {
     "name": "stdout",
     "output_type": "stream",
     "text": [
      "s_code         683\n",
      "c_t            683\n",
      "c_size         683\n",
      "c_shape        683\n",
      "m_a            683\n",
      "e_cell_size    683\n",
      "b_n            683\n",
      "b_c            683\n",
      "n_n            683\n",
      "m              683\n",
      "class          683\n",
      "dtype: int64\n"
     ]
    }
   ],
   "source": [
    "# Step 3: Remove missing data\n",
    "\n",
    "cancer_df[\"b_n\"]=pd.to_numeric(cancer_df[\"b_n\"],errors='coerce')\n",
    "cancer_df.dropna(inplace=True)\n",
    "print(cancer_df.count())"
   ]
  },
  {
   "cell_type": "code",
   "execution_count": 4,
   "id": "c46e5dd5",
   "metadata": {},
   "outputs": [],
   "source": [
    "# Step 4: create, train and test\n",
    "\n",
    "#split the data for train and test\n",
    "X_train, X_test, y_train, y_test = train_test_split(cancer_df.drop('class', axis=1), cancer_df['class'], test_size=0.30, random_state=45)"
   ]
  },
  {
   "cell_type": "code",
   "execution_count": 5,
   "id": "4fdaa291",
   "metadata": {},
   "outputs": [],
   "source": [
    "#normalize(scale) data to allow MLP to converge\n",
    "scaler = StandardScaler()\n",
    "scaler.fit(X_train)\n",
    "#apply transformation to data\n",
    "X_train = scaler.transform(X_train)\n",
    "X_test = scaler.transform(X_test)"
   ]
  },
  {
   "cell_type": "code",
   "execution_count": 6,
   "id": "53f368a1",
   "metadata": {},
   "outputs": [
    {
     "name": "stdout",
     "output_type": "stream",
     "text": [
      "<bound method BaseEstimator.get_params of MLPClassifier(hidden_layer_sizes=(20, 20, 20), max_iter=500)>\n"
     ]
    },
    {
     "data": {
      "text/plain": [
       "MLPClassifier(hidden_layer_sizes=(20, 20, 20), max_iter=500)"
      ]
     },
     "execution_count": 6,
     "metadata": {},
     "output_type": "execute_result"
    }
   ],
   "source": [
    "#create instance of MLP with 3 hidden layers and 500 iterations\n",
    "mlp = MLPClassifier(hidden_layer_sizes=(20,20,20), max_iter=500)\n",
    "\n",
    "#overview of parameter values (default)\n",
    "print(mlp.get_params)\n",
    "\n",
    "#fit the scaled data\n",
    "mlp.fit(X_train, y_train)"
   ]
  },
  {
   "cell_type": "code",
   "execution_count": 7,
   "id": "4cf2f131",
   "metadata": {},
   "outputs": [
    {
     "name": "stdout",
     "output_type": "stream",
     "text": [
      "[[121   2]\n",
      " [  6  76]]\n",
      "              precision    recall  f1-score   support\n",
      "\n",
      "           2       0.95      0.98      0.97       123\n",
      "           4       0.97      0.93      0.95        82\n",
      "\n",
      "    accuracy                           0.96       205\n",
      "   macro avg       0.96      0.96      0.96       205\n",
      "weighted avg       0.96      0.96      0.96       205\n",
      "\n"
     ]
    }
   ],
   "source": [
    "# Step 5: Results\n",
    "#make predictions and generated confusion matrix\n",
    "pred_result = mlp.predict(X_test)\n",
    "cm = confusion_matrix(y_test, pred_result)\n",
    "print(cm)\n",
    "#generating the classification report\n",
    "c_report = classification_report(y_test, pred_result)\n",
    "print(c_report)"
   ]
  },
  {
   "cell_type": "code",
   "execution_count": null,
   "id": "a6da8bb8",
   "metadata": {},
   "outputs": [],
   "source": []
  }
 ],
 "metadata": {
  "kernelspec": {
   "display_name": "Python 3 (ipykernel)",
   "language": "python",
   "name": "python3"
  },
  "language_info": {
   "codemirror_mode": {
    "name": "ipython",
    "version": 3
   },
   "file_extension": ".py",
   "mimetype": "text/x-python",
   "name": "python",
   "nbconvert_exporter": "python",
   "pygments_lexer": "ipython3",
   "version": "3.9.12"
  }
 },
 "nbformat": 4,
 "nbformat_minor": 5
}
