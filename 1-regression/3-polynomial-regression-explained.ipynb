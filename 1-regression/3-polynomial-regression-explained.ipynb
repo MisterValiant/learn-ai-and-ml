{
 "cells": [
  {
   "cell_type": "markdown",
   "id": "97a1e56d",
   "metadata": {},
   "source": [
    "# Implementing Polynomial Regression in Python"
   ]
  },
  {
   "cell_type": "markdown",
   "id": "9aa64c43",
   "metadata": {},
   "source": [
    "## 5 steps for simple LR "
   ]
  },
  {
   "cell_type": "markdown",
   "id": "183e9518",
   "metadata": {},
   "source": [
    "1. Import packages and classes needed.\n",
    "2. Feed in the data (including transformations if necessary).\n",
    "3. Create the regression model and fit it with the data.\n",
    "4. Use the results of the model fitting to verify if the it is satisfactory.\n",
    "5. Make predictions with the model."
   ]
  },
  {
   "cell_type": "code",
   "execution_count": 29,
   "id": "8b6f1c07",
   "metadata": {},
   "outputs": [],
   "source": [
    "# Step 1: Import Packages and Classes\n",
    "import numpy as np\n",
    "from sklearn.linear_model import LinearRegression\n",
    "from sklearn.preprocessing import PolynomialFeatures\n",
    "import matplotlib.pyplot as plt"
   ]
  },
  {
   "cell_type": "code",
   "execution_count": 30,
   "id": "9acb4236",
   "metadata": {},
   "outputs": [],
   "source": [
    "# Step 2: Feed in the Data\n",
    "x = np.array([5,15,25,35,45,55]).reshape((-1,1))\n",
    "y = np.array([15,11,2,8,25,32])"
   ]
  },
  {
   "cell_type": "code",
   "execution_count": 31,
   "id": "c1d476c0",
   "metadata": {},
   "outputs": [
    {
     "data": {
      "image/png": "[encoded data removed]",
      "text/plain": [
       "<Figure size 432x288 with 1 Axes>"
      ]
     },
     "metadata": {
      "needs_background": "light"
     },
     "output_type": "display_data"
    }
   ],
   "source": [
    "#plotting a graph to understand the points and need for a polynomial regression\n",
    "plt.scatter(x, y, s=10)\n",
    "plt.show()"
   ]
  },
  {
   "cell_type": "code",
   "execution_count": 32,
   "id": "d09d80fa",
   "metadata": {},
   "outputs": [
    {
     "name": "stdout",
     "output_type": "stream",
     "text": [
      "(6, 2)\n",
      "[[   5.   25.]\n",
      " [  15.  225.]\n",
      " [  25.  625.]\n",
      " [  35. 1225.]\n",
      " [  45. 2025.]\n",
      " [  55. 3025.]]\n",
      "\n",
      "------------------------\n",
      "\n",
      "(6, 3)\n",
      "[[1.000e+00 5.000e+00 2.500e+01]\n",
      " [1.000e+00 1.500e+01 2.250e+02]\n",
      " [1.000e+00 2.500e+01 6.250e+02]\n",
      " [1.000e+00 3.500e+01 1.225e+03]\n",
      " [1.000e+00 4.500e+01 2.025e+03]\n",
      " [1.000e+00 5.500e+01 3.025e+03]]\n"
     ]
    }
   ],
   "source": [
    "#new step is transformation with the degree of the polynomial observed to fit the data\n",
    "\n",
    "#from above we have an idea that a polynomial of degree 2 will fit the data\n",
    "transformer = PolynomialFeatures(degree=2, include_bias=False) #include_bias represents the intercept\n",
    "transformer.fit(x)\n",
    "x_ = transformer.transform(x)\n",
    "\n",
    "#one-liner: x_ = PolynomialFeatures(degree=2, include_bias=False).fit_transform(x)\n",
    "\n",
    "print(x_.shape)\n",
    "print(x_)\n",
    "\n",
    "print('\\n------------------------\\n')\n",
    "\n",
    "#include_bias true\n",
    "x_transform = PolynomialFeatures(degree=2, include_bias=True).fit_transform(x)\n",
    "print (x_transform.shape)\n",
    "print (x_transform)\n",
    "\n",
    "#first column: bias\n",
    "#second: value of x\n",
    "#third: value of x^2 (degree:2)"
   ]
  },
  {
   "cell_type": "code",
   "execution_count": 33,
   "id": "aa1a1cf3",
   "metadata": {},
   "outputs": [
    {
     "name": "stdout",
     "output_type": "stream",
     "text": [
      "(6,)\n",
      "[15 11  2  8 25 32]\n"
     ]
    }
   ],
   "source": [
    "print(y.shape)\n",
    "print(y)"
   ]
  },
  {
   "cell_type": "code",
   "execution_count": 40,
   "id": "a415a0f7",
   "metadata": {},
   "outputs": [],
   "source": [
    "# Step 3: Create the model and fit the data\n",
    "model = LinearRegression(fit_intercept=False).fit(x_transform,y)"
   ]
  },
  {
   "cell_type": "code",
   "execution_count": 41,
   "id": "be28285a",
   "metadata": {},
   "outputs": [
    {
     "name": "stdout",
     "output_type": "stream",
     "text": [
      "Coefficient of determination:  0.8908516262498565\n"
     ]
    }
   ],
   "source": [
    "# Step 4: Results\n",
    "r_sq = model.score(x_transform,y)\n",
    "print(\"Coefficient of determination: \", r_sq)\n",
    "\n",
    "#the coefficient of determination measures how well a statistical model predicts an outcome."
   ]
  },
  {
   "cell_type": "code",
   "execution_count": 42,
   "id": "83657df4",
   "metadata": {},
   "outputs": [
    {
     "name": "stdout",
     "output_type": "stream",
     "text": [
      "Intercept, θ0:  0.0\n",
      "Slope, θ1:  [21.37232143 -1.32357143  0.02839286]\n"
     ]
    }
   ],
   "source": [
    "print(\"Intercept, θ0: \",model.intercept_)\n",
    "print(\"Slope, θ1: \", model.coef_)"
   ]
  },
  {
   "cell_type": "code",
   "execution_count": 43,
   "id": "e357418a",
   "metadata": {},
   "outputs": [
    {
     "name": "stdout",
     "output_type": "stream",
     "text": [
      "predicted response: \n",
      "[15.46428571  7.90714286  6.02857143  9.82857143 19.30714286 34.46428571]\n"
     ]
    }
   ],
   "source": [
    "# Step 5: Make Prediction\n",
    "y_pred = model.predict(x_transform)\n",
    "print('predicted response: ', y_pred, sep='\\n')"
   ]
  },
  {
   "cell_type": "code",
   "execution_count": 44,
   "id": "7cec2478",
   "metadata": {},
   "outputs": [
    {
     "name": "stdout",
     "output_type": "stream",
     "text": [
      "(8, 3)\n",
      "[[ 1.000e+00 -2.500e+01  6.250e+02]\n",
      " [ 1.000e+00 -5.000e+00  2.500e+01]\n",
      " [ 1.000e+00  5.000e+00  2.500e+01]\n",
      " [ 1.000e+00  6.000e+01  3.600e+03]\n",
      " [ 1.000e+00  6.500e+01  4.225e+03]\n",
      " [ 1.000e+00  7.000e+01  4.900e+03]\n",
      " [ 1.000e+00  8.500e+01  7.225e+03]\n",
      " [ 1.000e+00  9.000e+01  8.100e+03]]\n",
      "New predicted response (y_pred_new):\n",
      "[ 72.20714286  28.7         15.46428571  44.17232143  55.3\n",
      "  67.84732143 114.00714286 132.23303571]\n"
     ]
    }
   ],
   "source": [
    "#new predictions\n",
    "x_new_input = np.array([-25, -5, 5, 60, 65, 70, 85, 90]).reshape((-1,1))\n",
    "x_new_transform = PolynomialFeatures(degree=2, include_bias=True).fit_transform(x_new_input)\n",
    "print(x_new_transform.shape)\n",
    "print(x_new_transform)\n",
    "y_pred_new = model.predict(x_new_transform)\n",
    "print('New predicted response (y_pred_new):', y_pred_new,sep='\\n')\n",
    "\n",
    "#first column: bias\n",
    "#second: value of x\n",
    "#third: value of x^2 (degree:2)"
   ]
  },
  {
   "cell_type": "code",
   "execution_count": 45,
   "id": "32396c33",
   "metadata": {},
   "outputs": [
    {
     "data": {
      "image/png": "[encoded data removed]",
      "text/plain": [
       "<Figure size 432x288 with 1 Axes>"
      ]
     },
     "metadata": {
      "needs_background": "light"
     },
     "output_type": "display_data"
    }
   ],
   "source": [
    "# Step 6: Visualisation\n",
    "\n",
    "plt.scatter(x, y, s=10)\n",
    "plt.plot(x, y_pred, color='r')\n",
    "plt.show()"
   ]
  },
  {
   "cell_type": "code",
   "execution_count": null,
   "id": "f0c6d2f8",
   "metadata": {},
   "outputs": [],
   "source": []
  }
 ],
 "metadata": {
  "kernelspec": {
   "display_name": "Python 3 (ipykernel)",
   "language": "python",
   "name": "python3"
  },
  "language_info": {
   "codemirror_mode": {
    "name": "ipython",
    "version": 3
   },
   "file_extension": ".py",
   "mimetype": "text/x-python",
   "name": "python",
   "nbconvert_exporter": "python",
   "pygments_lexer": "ipython3",
   "version": "3.9.12"
  }
 },
 "nbformat": 4,
 "nbformat_minor": 5
}
