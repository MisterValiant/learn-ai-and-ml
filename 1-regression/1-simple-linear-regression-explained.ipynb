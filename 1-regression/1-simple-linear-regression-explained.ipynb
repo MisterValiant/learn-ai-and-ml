{
 "cells": [
  {
   "cell_type": "markdown",
   "id": "97a1e56d",
   "metadata": {},
   "source": [
    "# Implementing Simple Linear Regression in Python"
   ]
  },
  {
   "cell_type": "markdown",
   "id": "a7abcb85",
   "metadata": {},
   "source": [
    "Numpy: allows operations on single and multi dimensional arrays and\n",
    "provides access to several mathematical functions."
   ]
  },
  {
   "cell_type": "raw",
   "id": "0255708b",
   "metadata": {},
   "source": [
    "scikit-learn: ML library for predictive data analysis"
   ]
  },
  {
   "cell_type": "markdown",
   "id": "9aa64c43",
   "metadata": {},
   "source": [
    "## 5 steps for simple LR "
   ]
  },
  {
   "cell_type": "markdown",
   "id": "183e9518",
   "metadata": {},
   "source": [
    "1. Import packages and classes needed.\n",
    "2. Feed in the data (including transformations if necessary).\n",
    "3. Create the regression model and fit it with the data.\n",
    "4. Use the results of the model fitting to verify if the it is satisfactory.\n",
    "5. Make predictions with the model."
   ]
  },
  {
   "cell_type": "code",
   "execution_count": 1,
   "id": "8b6f1c07",
   "metadata": {},
   "outputs": [],
   "source": [
    "# Step 1: Import Packages and Classes\n",
    "import numpy as np\n",
    "from sklearn.linear_model import LinearRegression\n",
    "\n",
    "\n",
    "# Step 2: Feed in the Data\n",
    "x = np.array([5,15,25,35,45,55]).reshape((-1,1)) #converted into a 2D array\n",
    "y = np.array([5,20,14,32,22,38])"
   ]
  },
  {
   "cell_type": "code",
   "execution_count": 2,
   "id": "6c178c17",
   "metadata": {},
   "outputs": [
    {
     "name": "stdout",
     "output_type": "stream",
     "text": [
      "(6, 1)\n",
      "[[ 5]\n",
      " [15]\n",
      " [25]\n",
      " [35]\n",
      " [45]\n",
      " [55]]\n"
     ]
    }
   ],
   "source": [
    "#we have created two arrays, x (input/independent variable) and y (output/dependent variable).\n",
    "#function reshape() on x converts the array into two dimensional,\n",
    "print(x.shape)\n",
    "print(x)"
   ]
  },
  {
   "cell_type": "code",
   "execution_count": 3,
   "id": "aa1a1cf3",
   "metadata": {},
   "outputs": [
    {
     "name": "stdout",
     "output_type": "stream",
     "text": [
      "(6,)\n",
      "[ 5 20 14 32 22 38]\n"
     ]
    }
   ],
   "source": [
    "print(y.shape)\n",
    "print(y)"
   ]
  },
  {
   "cell_type": "code",
   "execution_count": 4,
   "id": "a415a0f7",
   "metadata": {},
   "outputs": [],
   "source": [
    "# Step 3: Create the model and fit the data\n",
    "model = LinearRegression().fit(x,y)"
   ]
  },
  {
   "cell_type": "code",
   "execution_count": 5,
   "id": "be28285a",
   "metadata": {},
   "outputs": [
    {
     "name": "stdout",
     "output_type": "stream",
     "text": [
      "Coefficient of determination:  0.715875613747954\n"
     ]
    }
   ],
   "source": [
    "# Step 4: Results\n",
    "r_sq = model.score(x,y)\n",
    "print(\"Coefficient of determination: \", r_sq)\n",
    "\n",
    "#the coefficient of determination measures how well a statistical model predicts an outcome."
   ]
  },
  {
   "cell_type": "code",
   "execution_count": 7,
   "id": "83657df4",
   "metadata": {},
   "outputs": [
    {
     "name": "stdout",
     "output_type": "stream",
     "text": [
      "Intercept, θ0:  5.633333333333329\n",
      "Slope, θ1:  [0.54]\n"
     ]
    }
   ],
   "source": [
    "print(\"Intercept, θ0: \",model.intercept_)\n",
    "print(\"Slope, θ1: \", model.coef_)"
   ]
  },
  {
   "cell_type": "code",
   "execution_count": 14,
   "id": "e357418a",
   "metadata": {},
   "outputs": [
    {
     "name": "stdout",
     "output_type": "stream",
     "text": [
      "predicted response: \n",
      "[ 8.33333333 13.73333333 19.13333333 24.53333333 29.93333333 35.33333333]\n"
     ]
    }
   ],
   "source": [
    "# Step 5: Make Prediction\n",
    "y_pred = model.predict(x)\n",
    "print('predicted response: ', y_pred, sep='\\n')"
   ]
  },
  {
   "cell_type": "code",
   "execution_count": 17,
   "id": "7cec2478",
   "metadata": {},
   "outputs": [
    {
     "name": "stdout",
     "output_type": "stream",
     "text": [
      "new predicted response: \n",
      "[ 7.79333333 11.03333333 29.93333333 48.83333333]\n"
     ]
    }
   ],
   "source": [
    "#new predictions\n",
    "x_new = np.array([4, 10, 45, 80]).reshape((-1,1))\n",
    "y_pred_new = model.predict(x_new)\n",
    "print('new predicted response: ', y_pred_new, sep='\\n')"
   ]
  },
  {
   "cell_type": "code",
   "execution_count": null,
   "id": "32396c33",
   "metadata": {},
   "outputs": [],
   "source": []
  }
 ],
 "metadata": {
  "kernelspec": {
   "display_name": "Python 3 (ipykernel)",
   "language": "python",
   "name": "python3"
  },
  "language_info": {
   "codemirror_mode": {
    "name": "ipython",
    "version": 3
   },
   "file_extension": ".py",
   "mimetype": "text/x-python",
   "name": "python",
   "nbconvert_exporter": "python",
   "pygments_lexer": "ipython3",
   "version": "3.9.12"
  }
 },
 "nbformat": 4,
 "nbformat_minor": 5
}
