{
 "cells": [
  {
   "cell_type": "markdown",
   "id": "97a1e56d",
   "metadata": {},
   "source": [
    "# Continuation of previous exercise 1b"
   ]
  },
  {
   "cell_type": "code",
   "execution_count": 26,
   "id": "8b6f1c07",
   "metadata": {},
   "outputs": [],
   "source": [
    "# Step 1: Import Packages and Classes\n",
    "import numpy as np\n",
    "from sklearn.linear_model import LinearRegression\n",
    "from sklearn.preprocessing import PolynomialFeatures\n",
    "import matplotlib.pyplot as plt"
   ]
  },
  {
   "cell_type": "code",
   "execution_count": 27,
   "id": "031902af",
   "metadata": {},
   "outputs": [],
   "source": [
    "# Step 2: Feed in the Data\n",
    "x = np.array([5,15,25,35,45,55]).reshape((-1,1))\n",
    "y = np.array([15,11,2,8,25,32])"
   ]
  },
  {
   "cell_type": "code",
   "execution_count": 28,
   "id": "6ad2e974",
   "metadata": {},
   "outputs": [
    {
     "data": {
      "image/png": "[encoded data removed]",
      "text/plain": [
       "<Figure size 432x288 with 1 Axes>"
      ]
     },
     "metadata": {
      "needs_background": "light"
     },
     "output_type": "display_data"
    }
   ],
   "source": [
    "#plotting a graph to understand the points and need for a polynomial regression\n",
    "plt.scatter(x, y, s=10)\n",
    "plt.show()"
   ]
  },
  {
   "cell_type": "code",
   "execution_count": 36,
   "id": "fd483dc2",
   "metadata": {},
   "outputs": [
    {
     "name": "stdout",
     "output_type": "stream",
     "text": [
      "(6, 2)\n",
      "[[ 1.  5.]\n",
      " [ 1. 15.]\n",
      " [ 1. 25.]\n",
      " [ 1. 35.]\n",
      " [ 1. 45.]\n",
      " [ 1. 55.]]\n"
     ]
    }
   ],
   "source": [
    "#new step is transformation with the degree of the polynomial observed to fit the data\n",
    "\n",
    "#global variable to change degree:\n",
    "poly_degree=1\n",
    "\n",
    "#from above we have an idea that a polynomial of degree 2 will fit the data\n",
    "#include_bias true\n",
    "x_transform = PolynomialFeatures(degree=poly_degree, include_bias=True).fit_transform(x)\n",
    "print (x_transform.shape)\n",
    "print (x_transform)\n",
    "\n",
    "#first column: bias\n",
    "#second: value of x\n",
    "#third: value of x^2 (degree:2)"
   ]
  },
  {
   "cell_type": "code",
   "execution_count": 37,
   "id": "aa1a1cf3",
   "metadata": {},
   "outputs": [
    {
     "name": "stdout",
     "output_type": "stream",
     "text": [
      "(6,)\n",
      "[15 11  2  8 25 32]\n"
     ]
    }
   ],
   "source": [
    "print(y.shape)\n",
    "print(y)"
   ]
  },
  {
   "cell_type": "code",
   "execution_count": 38,
   "id": "a415a0f7",
   "metadata": {},
   "outputs": [],
   "source": [
    "# Step 3: Create the model and fit the data\n",
    "model = LinearRegression(fit_intercept=False).fit(x_transform,y)"
   ]
  },
  {
   "cell_type": "code",
   "execution_count": 39,
   "id": "83657df4",
   "metadata": {},
   "outputs": [
    {
     "name": "stdout",
     "output_type": "stream",
     "text": [
      "Coefficient of determination:  0.4065969428801288\n",
      "Intercept, θ0:  0.0\n",
      "Slope, θ1:  [4.1  0.38]\n"
     ]
    }
   ],
   "source": [
    "# Step 4: Results\n",
    "r_sq = model.score(x_transform,y)\n",
    "print(\"Coefficient of determination: \", r_sq)\n",
    "#the coefficient of determination measures how well a statistical model predicts an outcome.\n",
    "\n",
    "print(\"Intercept, θ0: \",model.intercept_)\n",
    "print(\"Slope, θ1: \", model.coef_)"
   ]
  },
  {
   "cell_type": "code",
   "execution_count": 40,
   "id": "e357418a",
   "metadata": {},
   "outputs": [
    {
     "name": "stdout",
     "output_type": "stream",
     "text": [
      "predicted response: \n",
      "[ 6.   9.8 13.6 17.4 21.2 25. ]\n"
     ]
    }
   ],
   "source": [
    "# Step 5: Make Prediction\n",
    "y_pred = model.predict(x_transform)\n",
    "print('predicted response: ', y_pred, sep='\\n')"
   ]
  },
  {
   "cell_type": "code",
   "execution_count": 41,
   "id": "7cec2478",
   "metadata": {},
   "outputs": [
    {
     "name": "stdout",
     "output_type": "stream",
     "text": [
      "(8, 2)\n",
      "[[  1. -25.]\n",
      " [  1.  -5.]\n",
      " [  1.   5.]\n",
      " [  1.  60.]\n",
      " [  1.  65.]\n",
      " [  1.  70.]\n",
      " [  1.  85.]\n",
      " [  1.  90.]]\n",
      "New predicted response (y_pred_new):\n",
      "[-5.4  2.2  6.  26.9 28.8 30.7 36.4 38.3]\n"
     ]
    }
   ],
   "source": [
    "#new predictions\n",
    "x_new_input = np.array([-25, -5, 5, 60, 65, 70, 85, 90]).reshape((-1,1))\n",
    "x_new_transform = PolynomialFeatures(degree=poly_degree, include_bias=True).fit_transform(x_new_input)\n",
    "print(x_new_transform.shape)\n",
    "print(x_new_transform)\n",
    "y_pred_new = model.predict(x_new_transform)\n",
    "print('New predicted response (y_pred_new):', y_pred_new,sep='\\n')\n",
    "\n",
    "#first column: bias\n",
    "#second: value of x\n",
    "#third: value of x^2 (degree:2)"
   ]
  },
  {
   "cell_type": "code",
   "execution_count": 42,
   "id": "32396c33",
   "metadata": {},
   "outputs": [
    {
     "data": {
      "image/png": "[encoded data removed]",
      "text/plain": [
       "<Figure size 432x288 with 1 Axes>"
      ]
     },
     "metadata": {
      "needs_background": "light"
     },
     "output_type": "display_data"
    }
   ],
   "source": [
    "# Step 6: Visualisation\n",
    "\n",
    "plt.scatter(x, y, s=10)\n",
    "plt.plot(x, y_pred, color='r')\n",
    "plt.show()"
   ]
  },
  {
   "cell_type": "markdown",
   "id": "abf90178",
   "metadata": {},
   "source": [
    "# Change degree with poly_degree"
   ]
  },
  {
   "cell_type": "markdown",
   "id": "80a96d2e",
   "metadata": {},
   "source": [
    "### Degree=10"
   ]
  },
  {
   "cell_type": "markdown",
   "id": "8ac6bca8",
   "metadata": {},
   "source": [
    "At degree 10, we have a polynomial that goes through all the points.\n",
    "We might think that this is very accurate with a coeffecient of determination: 0.9999999980397326\n",
    "This is not true!\n",
    "\n",
    "If you want to make NEW predictions, it will not generalise / it will not make good predictions.\n",
    "The model is OVERFITTING.\n",
    "It has learnt the data too well. It goes through almost or all points.\n",
    "Such a model has a high variance.\n",
    "\n",
    "The way the model is going to make predictions on new data is not the most appropriate one as it has only learnt from the dataset."
   ]
  },
  {
   "cell_type": "markdown",
   "id": "db212a45",
   "metadata": {},
   "source": [
    "### Degree=1"
   ]
  },
  {
   "cell_type": "markdown",
   "id": "2cd63e91",
   "metadata": {},
   "source": [
    "At degree 1, the model is UNDERFITTING. It means that the model has been created is not able to capture appropriate knowledge from the data.\n",
    "The points are very far from the line.\n",
    "\n",
    "This model is highly biased. When we are going to use this on NEW / unseen data, it will not generalise very well.\n",
    "We will have inappropriate predictions."
   ]
  }
 ],
 "metadata": {
  "kernelspec": {
   "display_name": "Python 3 (ipykernel)",
   "language": "python",
   "name": "python3"
  },
  "language_info": {
   "codemirror_mode": {
    "name": "ipython",
    "version": 3
   },
   "file_extension": ".py",
   "mimetype": "text/x-python",
   "name": "python",
   "nbconvert_exporter": "python",
   "pygments_lexer": "ipython3",
   "version": "3.9.12"
  }
 },
 "nbformat": 4,
 "nbformat_minor": 5
}
