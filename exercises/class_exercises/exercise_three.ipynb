{
 "cells": [
  {
   "cell_type": "code",
   "execution_count": 20,
   "id": "302246ee",
   "metadata": {},
   "outputs": [],
   "source": [
    "import pandas as pd\n",
    "import numpy as np\n",
    "from sklearn import linear_model\n",
    "from sklearn.model_selection import train_test_split\n",
    "from sklearn import metrics\n",
    "import matplotlib.pyplot as plt"
   ]
  },
  {
   "cell_type": "code",
   "execution_count": 21,
   "id": "567f3b9b",
   "metadata": {},
   "outputs": [
    {
     "name": "stdout",
     "output_type": "stream",
     "text": [
      "      mpg  cylinders  displacement  horsepower  weight  acceleration  \\\n",
      "0    18.0          8         307.0       130.0    3504          12.0   \n",
      "1    15.0          8         350.0       165.0    3693          11.5   \n",
      "2    18.0          8         318.0       150.0    3436          11.0   \n",
      "3    16.0          8         304.0       150.0    3433          12.0   \n",
      "4    17.0          8         302.0       140.0    3449          10.5   \n",
      "..    ...        ...           ...         ...     ...           ...   \n",
      "393  27.0          4         140.0        86.0    2790          15.6   \n",
      "394  44.0          4          97.0        52.0    2130          24.6   \n",
      "395  32.0          4         135.0        84.0    2295          11.6   \n",
      "396  28.0          4         120.0        79.0    2625          18.6   \n",
      "397  31.0          4         119.0        82.0    2720          19.4   \n",
      "\n",
      "     model-year  origin                   car_name  \n",
      "0            70       1  chevrolet chevelle malibu  \n",
      "1            70       1          buick skylark 320  \n",
      "2            70       1         plymouth satellite  \n",
      "3            70       1              amc rebel sst  \n",
      "4            70       1                ford torino  \n",
      "..          ...     ...                        ...  \n",
      "393          82       1            ford mustang gl  \n",
      "394          82       2                  vw pickup  \n",
      "395          82       1              dodge rampage  \n",
      "396          82       1                ford ranger  \n",
      "397          82       1                 chevy s-10  \n",
      "\n",
      "[398 rows x 9 columns]\n"
     ]
    }
   ],
   "source": [
    "df = pd.read_csv(\"C://myDataSets//auto-mpg-updated.csv\")\n",
    "print(df)"
   ]
  },
  {
   "cell_type": "code",
   "execution_count": 22,
   "id": "4ffa6d02",
   "metadata": {},
   "outputs": [
    {
     "data": {
      "text/html": [
       "<div>\n",
       "<style scoped>\n",
       "    .dataframe tbody tr th:only-of-type {\n",
       "        vertical-align: middle;\n",
       "    }\n",
       "\n",
       "    .dataframe tbody tr th {\n",
       "        vertical-align: top;\n",
       "    }\n",
       "\n",
       "    .dataframe thead th {\n",
       "        text-align: right;\n",
       "    }\n",
       "</style>\n",
       "<table border=\"1\" class=\"dataframe\">\n",
       "  <thead>\n",
       "    <tr style=\"text-align: right;\">\n",
       "      <th></th>\n",
       "      <th>mpg</th>\n",
       "      <th>cylinders</th>\n",
       "      <th>displacement</th>\n",
       "      <th>horsepower</th>\n",
       "      <th>weight</th>\n",
       "      <th>acceleration</th>\n",
       "      <th>model-year</th>\n",
       "      <th>origin</th>\n",
       "      <th>car_name</th>\n",
       "    </tr>\n",
       "  </thead>\n",
       "  <tbody>\n",
       "    <tr>\n",
       "      <th>0</th>\n",
       "      <td>18.0</td>\n",
       "      <td>8</td>\n",
       "      <td>307.0</td>\n",
       "      <td>130.0</td>\n",
       "      <td>3504</td>\n",
       "      <td>12.0</td>\n",
       "      <td>70</td>\n",
       "      <td>1</td>\n",
       "      <td>chevrolet chevelle malibu</td>\n",
       "    </tr>\n",
       "    <tr>\n",
       "      <th>1</th>\n",
       "      <td>15.0</td>\n",
       "      <td>8</td>\n",
       "      <td>350.0</td>\n",
       "      <td>165.0</td>\n",
       "      <td>3693</td>\n",
       "      <td>11.5</td>\n",
       "      <td>70</td>\n",
       "      <td>1</td>\n",
       "      <td>buick skylark 320</td>\n",
       "    </tr>\n",
       "    <tr>\n",
       "      <th>2</th>\n",
       "      <td>18.0</td>\n",
       "      <td>8</td>\n",
       "      <td>318.0</td>\n",
       "      <td>150.0</td>\n",
       "      <td>3436</td>\n",
       "      <td>11.0</td>\n",
       "      <td>70</td>\n",
       "      <td>1</td>\n",
       "      <td>plymouth satellite</td>\n",
       "    </tr>\n",
       "    <tr>\n",
       "      <th>3</th>\n",
       "      <td>16.0</td>\n",
       "      <td>8</td>\n",
       "      <td>304.0</td>\n",
       "      <td>150.0</td>\n",
       "      <td>3433</td>\n",
       "      <td>12.0</td>\n",
       "      <td>70</td>\n",
       "      <td>1</td>\n",
       "      <td>amc rebel sst</td>\n",
       "    </tr>\n",
       "    <tr>\n",
       "      <th>4</th>\n",
       "      <td>17.0</td>\n",
       "      <td>8</td>\n",
       "      <td>302.0</td>\n",
       "      <td>140.0</td>\n",
       "      <td>3449</td>\n",
       "      <td>10.5</td>\n",
       "      <td>70</td>\n",
       "      <td>1</td>\n",
       "      <td>ford torino</td>\n",
       "    </tr>\n",
       "  </tbody>\n",
       "</table>\n",
       "</div>"
      ],
      "text/plain": [
       "    mpg  cylinders  displacement  horsepower  weight  acceleration  \\\n",
       "0  18.0          8         307.0       130.0    3504          12.0   \n",
       "1  15.0          8         350.0       165.0    3693          11.5   \n",
       "2  18.0          8         318.0       150.0    3436          11.0   \n",
       "3  16.0          8         304.0       150.0    3433          12.0   \n",
       "4  17.0          8         302.0       140.0    3449          10.5   \n",
       "\n",
       "   model-year  origin                   car_name  \n",
       "0          70       1  chevrolet chevelle malibu  \n",
       "1          70       1          buick skylark 320  \n",
       "2          70       1         plymouth satellite  \n",
       "3          70       1              amc rebel sst  \n",
       "4          70       1                ford torino  "
      ]
     },
     "execution_count": 22,
     "metadata": {},
     "output_type": "execute_result"
    }
   ],
   "source": [
    "df.head()"
   ]
  },
  {
   "cell_type": "code",
   "execution_count": 23,
   "id": "2ccc861a",
   "metadata": {},
   "outputs": [
    {
     "name": "stdout",
     "output_type": "stream",
     "text": [
      "(398, 7)\n",
      "(398,)\n"
     ]
    }
   ],
   "source": [
    "# we are predicting mpg\n",
    "x = df.drop(columns=[\"mpg\", \"car_name\"])\n",
    "y = df[\"mpg\"]\n",
    "\n",
    "print(x.shape)\n",
    "print(y.shape)"
   ]
  },
  {
   "cell_type": "code",
   "execution_count": 24,
   "id": "83bdb3c4",
   "metadata": {},
   "outputs": [
    {
     "name": "stdout",
     "output_type": "stream",
     "text": [
      "cylinders         int64\n",
      "displacement    float64\n",
      "horsepower      float64\n",
      "weight            int64\n",
      "acceleration    float64\n",
      "model-year        int64\n",
      "origin            int64\n",
      "dtype: object\n"
     ]
    }
   ],
   "source": [
    "print(x.dtypes)"
   ]
  },
  {
   "cell_type": "code",
   "execution_count": 25,
   "id": "e022933a",
   "metadata": {},
   "outputs": [
    {
     "name": "stdout",
     "output_type": "stream",
     "text": [
      "[dtype('int64') dtype('float64')]\n"
     ]
    }
   ],
   "source": [
    "print(x.dtypes.unique())"
   ]
  },
  {
   "cell_type": "code",
   "execution_count": 26,
   "id": "c492bc5d",
   "metadata": {},
   "outputs": [],
   "source": [
    "x_train, x_test, y_train, y_test = train_test_split(x, y, test_size=0.2, random_state=42)\n",
    "\n",
    "lnreg = linear_model.LinearRegression()\n",
    "lnreg.fit(x_train, y_train)\n",
    "\n",
    "y = lnreg.predict(x_test)"
   ]
  },
  {
   "cell_type": "code",
   "execution_count": 27,
   "id": "7b62cd6b",
   "metadata": {},
   "outputs": [
    {
     "name": "stdout",
     "output_type": "stream",
     "text": [
      "[32.87903659 29.58103548 21.38053784 16.78872133 12.4926795  27.18365871\n",
      " 27.94037411  9.75487512 16.87827833 21.65111237 12.78702336 36.16807405\n",
      " 25.14528416 13.68592491 24.01892376  6.41108    29.57043437 23.56818586\n",
      " 16.32235762 36.27714995 23.72419892 18.99052188 28.71581005 28.75050178\n",
      " 14.99214995 34.63031322 25.48591674 24.9898859  21.96521493  8.81993761\n",
      " 28.48035862 34.87097733 20.51256226 26.05958386 34.25749356 11.9367727\n",
      " 22.91667006 21.71324457 12.33668021 26.75030713 26.23909373 27.40804203\n",
      " 20.1707774   7.21086163 24.54425886 34.94466999 26.79060062 24.20752547\n",
      " 22.49757038 27.57736614 22.69316977 33.68407814 32.67884635 10.93346997\n",
      " 27.7165398  10.01211101 19.76260459 29.89693105 23.18704613 20.4986687\n",
      " 16.14229022 32.089565   24.05015496 20.5097529  20.93197827 25.50822363\n",
      " 25.15532757 32.41019761 28.06409393 12.72790971 31.32249305 13.01485807\n",
      " 10.03264069 19.44255878 27.38298937 22.11455647 20.54145395 29.53170393\n",
      " 29.35520948 20.07934116]\n",
      "**************************\n",
      "198    33.0\n",
      "396    28.0\n",
      "33     19.0\n",
      "208    13.0\n",
      "93     14.0\n",
      "       ... \n",
      "249    19.9\n",
      "225    17.5\n",
      "367    28.0\n",
      "175    29.0\n",
      "285    17.0\n",
      "Name: mpg, Length: 80, dtype: float64\n"
     ]
    }
   ],
   "source": [
    "print(y)\n",
    "print(\"**************************\")\n",
    "print(y_test)"
   ]
  },
  {
   "cell_type": "code",
   "execution_count": 28,
   "id": "f5e94df7",
   "metadata": {},
   "outputs": [
    {
     "name": "stdout",
     "output_type": "stream",
     "text": [
      "Mean Square Error 8.19969284894647\n",
      "Mean Absolute Error 2.2535279834458626\n",
      "Model R^2 Square value 0.8474942310286894\n"
     ]
    }
   ],
   "source": [
    "#model parameters\n",
    "#lnreg.get_parameters()\n",
    "#print('Co-efficient of LR', lnreg.coef_)\n",
    "#print('Intercept of LR model', lnreg.intercept_)\n",
    "\n",
    "#Check Modal Performance\n",
    "print('Mean Square Error', metrics.mean_squared_error(y_test, y))\n",
    "print('Mean Absolute Error', metrics.mean_absolute_error(y_test, y))\n",
    "print('Model R^2 Square value', metrics.r2_score(y_test, y))"
   ]
  },
  {
   "cell_type": "code",
   "execution_count": null,
   "id": "9c8c4cf5",
   "metadata": {},
   "outputs": [],
   "source": []
  }
 ],
 "metadata": {
  "kernelspec": {
   "display_name": "Python 3 (ipykernel)",
   "language": "python",
   "name": "python3"
  },
  "language_info": {
   "codemirror_mode": {
    "name": "ipython",
    "version": 3
   },
   "file_extension": ".py",
   "mimetype": "text/x-python",
   "name": "python",
   "nbconvert_exporter": "python",
   "pygments_lexer": "ipython3",
   "version": "3.9.12"
  }
 },
 "nbformat": 4,
 "nbformat_minor": 5
}
